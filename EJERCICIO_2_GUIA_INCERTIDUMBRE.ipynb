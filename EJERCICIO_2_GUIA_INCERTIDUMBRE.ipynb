{
  "nbformat": 4,
  "nbformat_minor": 0,
  "metadata": {
    "colab": {
      "name": "EJERCICIO_2_GUIA_INCERTIDUMBRE.ipynb",
      "provenance": [],
      "collapsed_sections": [],
      "authorship_tag": "ABX9TyOQosWGtdAC9v5GRFTW9QVf",
      "include_colab_link": true
    },
    "kernelspec": {
      "name": "python3",
      "display_name": "Python 3"
    },
    "language_info": {
      "name": "python"
    }
  },
  "cells": [
    {
      "cell_type": "markdown",
      "metadata": {
        "id": "view-in-github",
        "colab_type": "text"
      },
      "source": [
        "<a href=\"https://colab.research.google.com/github/LopLuAl/Teoria-Circuitos-II/blob/master/EJERCICIO_2_GUIA_INCERTIDUMBRE.ipynb\" target=\"_parent\"><img src=\"https://colab.research.google.com/assets/colab-badge.svg\" alt=\"Open In Colab\"/></a>"
      ]
    },
    {
      "cell_type": "markdown",
      "metadata": {
        "id": "HT9DSUzUyzf8"
      },
      "source": [
        "# ***EJERCICIO 2 GUIA INCERTIDUMBRE***\n"
      ]
    },
    {
      "cell_type": "markdown",
      "metadata": {
        "id": "0lukzlBIHQ-_"
      },
      "source": [
        "# ***0.   MEDICIONES***"
      ]
    },
    {
      "cell_type": "code",
      "metadata": {
        "id": "Tcuc2OF3FO__"
      },
      "source": [
        "import numpy as np\n",
        "import matplotlib.pyplot as plt\n",
        "\n",
        "V   = np.asarray([5.007, 4.994, 5.005, 4.990, 4.999])\n",
        "I   = np.asarray([19.663,19.639,19.640,19.685,19.678])\n",
        "P   = np.asarray([1.0456, 1.0438, 1.0468, 1.0428, 1.0433])"
      ],
      "execution_count": 58,
      "outputs": []
    },
    {
      "cell_type": "markdown",
      "metadata": {
        "id": "GiVSpGR2u9xv"
      },
      "source": [
        "# ***1.   INCERTIDUMBRE TIPO A***"
      ]
    },
    {
      "cell_type": "code",
      "metadata": {
        "id": "rn9JlBmlJPWE",
        "colab": {
          "base_uri": "https://localhost:8080/",
          "height": 0
        },
        "outputId": "d94f4c58-e888-44fb-b27b-673a3104ba3b"
      },
      "source": [
        "#Saco la media de las mediciones de V, I y PHI\n",
        "MEDIA_V = np.mean(V)\n",
        "MEDIA_I = np.mean(I)\n",
        "MEDIA_P = np.mean(P)\n",
        "\n",
        "print('La media de tension   es %1.3f'%(MEDIA_V))\n",
        "print('La media de corriente es %1.3f'%(MEDIA_I))\n",
        "print('La media de fase      es %1.5f'%(MEDIA_P))\n",
        "\n",
        "#DESVIO estandar\n",
        "uiV = V.std(ddof=1) / np.sqrt(len(V))\n",
        "uiI = I.std(ddof=1) / np.sqrt(len(I)) \n",
        "uiP = P.std(ddof=1) / np.sqrt(len(P))\n",
        "\n",
        "ujP=uiP\n",
        "\n",
        "#Ui: Desvio estandard experimental respecto de la media\n",
        "\n",
        "print('incertidumbre TIPO A de tension   es %1.4f'%(uiV))\n",
        "print('incertidumbre TIPO A de corriente es %1.4f'%(uiI))\n",
        "print('incertidumbre TIPO A de fase      es %1.5f'%(uiP))"
      ],
      "execution_count": 59,
      "outputs": [
        {
          "output_type": "stream",
          "text": [
            "La media de tension   es 4.999\n",
            "La media de corriente es 19.661\n",
            "La media de fase      es 1.04446\n",
            "incertidumbre TIPO A de tension   es 0.0032\n",
            "incertidumbre TIPO A de corriente es 0.0095\n",
            "incertidumbre TIPO A de fase      es 0.00075\n"
          ],
          "name": "stdout"
        }
      ]
    },
    {
      "cell_type": "code",
      "metadata": {
        "id": "s8wxNMfgMJaB"
      },
      "source": [
        "#Coeficiente de correlacione entre V e I\n",
        "\n",
        "CORR_V_I=np.corrcoef(V,I)[0,1] # Tomo la fila 1, columna 2\n",
        "\n",
        "#Coeficiente de correlacione entre V e PHI\n",
        "\n",
        "CORR_V_P=np.corrcoef(V,P)[0,1]\n",
        "\n",
        "#Coeficiente de correlacione entre I e PHI\n",
        "\n",
        "CORR_I_P=np.corrcoef(I,P)[0,1]"
      ],
      "execution_count": 60,
      "outputs": []
    },
    {
      "cell_type": "markdown",
      "metadata": {
        "id": "YFeE_WBRxI3B"
      },
      "source": [
        "# ***2.   INCERTIDUMBRE TIPO B***"
      ]
    },
    {
      "cell_type": "code",
      "metadata": {
        "id": "SZPqOzQBRFfS"
      },
      "source": [
        "CONST_ERROR_PORCENTUAL_V = 0.05\n",
        "CONST_ERROR_CUENTA_V     = 5\n",
        "CONST_ERROR_PORCENTUAL_I = 0.05\n",
        "CONST_ERROR_CUENTA_I     = 5\n",
        "CONST_NUMERO_CUENTA      = 4 "
      ],
      "execution_count": 61,
      "outputs": []
    },
    {
      "cell_type": "code",
      "metadata": {
        "id": "KIP4tZZ2ViIe"
      },
      "source": [
        "V_cuentas = 4999\n",
        "I_cuentas = 19661\n",
        "P_cuentas = 1.044\n",
        "\n",
        "V_ERROR_PORCENTUAL_CUENTA = (CONST_ERROR_CUENTA_V / V_cuentas)* 100\n",
        "I_ERROR_PORCENTUAL_CUENTA = (CONST_ERROR_CUENTA_I / I_cuentas)* 100\n",
        "\n",
        "ERROR_V = (V_ERROR_PORCENTUAL_CUENTA+CONST_ERROR_PORCENTUAL_V)*MEDIA_V/100\n",
        "ERROR_I = (I_ERROR_PORCENTUAL_CUENTA + CONST_ERROR_PORCENTUAL_I)*MEDIA_I/100\n"
      ],
      "execution_count": 62,
      "outputs": []
    },
    {
      "cell_type": "code",
      "metadata": {
        "id": "61F65EVAXSZX"
      },
      "source": [
        "#Incertidumbre tipo B\n",
        "ujV = ERROR_V/np.sqrt(3)\n",
        "ujI = ERROR_I/np.sqrt(3)"
      ],
      "execution_count": 63,
      "outputs": []
    },
    {
      "cell_type": "markdown",
      "metadata": {
        "id": "m1359evcOQbJ"
      },
      "source": [
        "### ***CALCULO INCERTIDUMBRE COMBINADA***"
      ]
    },
    {
      "cell_type": "markdown",
      "metadata": {
        "id": "8s86OkUu54O6"
      },
      "source": [
        "Incertidumbre combinada Corriente y Tension"
      ]
    },
    {
      "cell_type": "code",
      "metadata": {
        "id": "5txmQx-4OTXA"
      },
      "source": [
        "ucV= np.sqrt(uiV**2 + ujV**2)\n",
        "ucI= np.sqrt(uiI**2 + ujI**2)"
      ],
      "execution_count": 64,
      "outputs": []
    },
    {
      "cell_type": "markdown",
      "metadata": {
        "id": "vLpXpdun59vK"
      },
      "source": [
        "Derivadas parciales\n",
        "\n",
        "1.   Z = V / I\n",
        "2.   R = V * COS (phi) / I\n",
        "3.   X = V * SIN (phi) / I \n",
        "\n"
      ]
    },
    {
      "cell_type": "code",
      "metadata": {
        "colab": {
          "base_uri": "https://localhost:8080/",
          "height": 0
        },
        "id": "fZvBg1-T585D",
        "outputId": "f00c69b7-0e1e-4832-f0df-57e634a72ba0"
      },
      "source": [
        "\n",
        "COSENO = np.cos(MEDIA_P)\n",
        "SENO   = np.sin(MEDIA_P)\n",
        "\n",
        "dr_di  = -MEDIA_V*COSENO/MEDIA_I**2\n",
        "dr_dv  =  COSENO/MEDIA_I\n",
        "dr_df  =  -MEDIA_V*SENO/MEDIA_I\n",
        "\n",
        "\n",
        "\n",
        "UC_RESISTIVA=np.sqrt( \n",
        "                      (dr_dv*ujV)**2 + \n",
        "                      (dr_di*ujI)**2 +\n",
        "                      (dr_df*ujP)**2 + \n",
        "                      2*(ujI*ujV*dr_di*dr_dv*CORR_V_I +\n",
        "                         ujI*ujP*dr_di*dr_df*CORR_I_P +\n",
        "                         ujV*ujP*dr_df*dr_dv*CORR_V_P\n",
        "                      ))\n",
        "\n",
        "print(\"Incertidumbre parte resistiva: %2.4f\"%UC_RESISTIVA)\n"
      ],
      "execution_count": 65,
      "outputs": [
        {
          "output_type": "stream",
          "text": [
            "Incertidumbre parte resistiva: 0.0001\n"
          ],
          "name": "stdout"
        }
      ]
    },
    {
      "cell_type": "code",
      "metadata": {
        "colab": {
          "base_uri": "https://localhost:8080/",
          "height": 0
        },
        "id": "IdAjY_DT7QAK",
        "outputId": "d6ce4316-dc06-41de-9f1b-db293f671346"
      },
      "source": [
        "dx_di = -MEDIA_V*SENO/MEDIA_I**2\n",
        "dx_dv =  SENO/MEDIA_I\n",
        "dx_df =  MEDIA_V*COSENO/MEDIA_I\n",
        "\n",
        "UC_REACTIVA = np.sqrt(dx_dv**2*ujV**2+dx_di**2*ujI**2+dx_df**2*ujP**2 +\n",
        "                     2*(dx_dv*dx_di*ujV*ujI*CORR_V_I +\n",
        "                        dx_di*dx_df*ujI*ujP*CORR_I_P +\n",
        "                        dx_dv*dx_df*ujV*ujP*CORR_V_P)\n",
        "                     )\n",
        "    \n",
        "print('Incertidumbre parte reactiva: %2.4f'%UC_REACTIVA)"
      ],
      "execution_count": 66,
      "outputs": [
        {
          "output_type": "stream",
          "text": [
            "Incertidumbre parte reactiva: 0.0003\n"
          ],
          "name": "stdout"
        }
      ]
    },
    {
      "cell_type": "code",
      "metadata": {
        "colab": {
          "base_uri": "https://localhost:8080/",
          "height": 0
        },
        "id": "ms217aPI7S1U",
        "outputId": "097f9476-e875-445c-e4eb-b7e160b07660"
      },
      "source": [
        "dz_di = -MEDIA_V/MEDIA_I**2\n",
        "dz_dv = 1/MEDIA_I\n",
        "\n",
        "\n",
        "UC_IMPEDANCIA = np.sqrt (\n",
        "                         dz_di**2*ujI**2 + dz_dv**2*ujV**2 +\n",
        "                         2*(dz_dv*dz_di*ujV*ujI*CORR_V_I))\n",
        "    \n",
        "print('Incertidumbre impedancia: %2.4f'%UC_IMPEDANCIA)"
      ],
      "execution_count": 67,
      "outputs": [
        {
          "output_type": "stream",
          "text": [
            "Incertidumbre impedancia: 0.0003\n"
          ],
          "name": "stdout"
        }
      ]
    }
  ]
}