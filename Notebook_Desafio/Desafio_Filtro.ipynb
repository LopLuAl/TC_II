{
 "cells": [
  {
   "cell_type": "markdown",
   "metadata": {},
   "source": [
    "# Problema desafío"
   ]
  },
  {
   "cell_type": "markdown",
   "metadata": {},
   "source": [
    "Se pide diseñar un filtro pasabajo que satisfaga la siguiente plantilla:"
   ]
  },
  {
   "cell_type": "markdown",
   "metadata": {},
   "source": [
    "* $$ f_{p} = 500  Hz $$\n",
    "* $$ f_{s} = 1500 Hz $$\n",
    "* $$ α_{max} = 1  dB $$\n",
    "* $$ α_{min} = 18 dB $$"
   ]
  },
  {
   "cell_type": "markdown",
   "metadata": {},
   "source": [
    "a) Determine si el siguiente diseño puede realizarse con una sola sección de segundo orden cuya respuesta de módulo es de **máxima planicidad**."
   ]
  },
  {
   "cell_type": "markdown",
   "metadata": {},
   "source": [
    "Partimos de la ecuacion de transferencia para un filtro de Máxima Planicidad."
   ]
  },
  {
   "cell_type": "markdown",
   "metadata": {},
   "source": [
    "$$\n",
    "\\begin{vmatrix}H(s)\\end{vmatrix}^{2}=\\frac{1}{1+\\varepsilon^2\\omega^{2N}} $$"
   ]
  },
  {
   "cell_type": "markdown",
   "metadata": {},
   "source": [
    "Luego necesitamos normalizar las frecuencias angulares. Vamos a tomar como norma "
   ]
  },
  {
   "cell_type": "markdown",
   "metadata": {},
   "source": [
    "$$\\omega_{p}=2\\pi500  => \t\\Omega_{p} = 1$$"
   ]
  },
  {
   "cell_type": "markdown",
   "metadata": {},
   "source": [
    "Entonces nuestras frecuencias angulares normalizadas nos quedan: "
   ]
  },
  {
   "cell_type": "markdown",
   "metadata": {},
   "source": [
    "$$ \\Omega_{p} = 1  \n",
    "$$ $$\\Omega_{s} = 3 $$"
   ]
  },
  {
   "cell_type": "markdown",
   "metadata": {},
   "source": [
    "Con los requerimientos de plantilla, calculamos epsilon "
   ]
  },
  {
   "cell_type": "markdown",
   "metadata": {},
   "source": [
    "$$\\epsilon ^2 = 10^{\\alpha_{min}}-1 $$"
   ]
  },
  {
   "cell_type": "code",
   "execution_count": 6,
   "metadata": {
    "scrolled": true
   },
   "outputs": [
    {
     "data": {
      "text/plain": [
       "0.2589254117941673"
      ]
     },
     "execution_count": 6,
     "metadata": {},
     "output_type": "execute_result"
    }
   ],
   "source": [
    "import math as m\n",
    "alpha_max = 1    # dB\n",
    "alpha_min = 18   # dB\n",
    "w_p = 1\n",
    "w_s =3\n",
    "epsilon2 = m.pow(10, 0.1 * alpha_max) - 1\n",
    "\n",
    "epsilon2"
   ]
  },
  {
   "cell_type": "markdown",
   "metadata": {},
   "source": [
    "Ahora con el valor de epsilon podemos calcular el orden del filtro"
   ]
  },
  {
   "cell_type": "markdown",
   "metadata": {},
   "source": [
    "$$\\frac{log(\\tfrac{10^{\\alpha_{min}*0.1}-1}{10^{\\alpha_{max}*0.1}-1})}{log(3)*2} = N$$"
   ]
  },
  {
   "cell_type": "code",
   "execution_count": 11,
   "metadata": {},
   "outputs": [
    {
     "data": {
      "text/plain": [
       "3"
      ]
     },
     "execution_count": 11,
     "metadata": {},
     "output_type": "execute_result"
    }
   ],
   "source": [
    "N = m.log10((m.pow(10, alpha_min * 0.1) - 1) / (m.pow(10, alpha_max * 0.1) - 1)) / (2 * m.log10(w_s))\n",
    "epsilon=m.sqrt(epsilon2)\n",
    "N_e=m.ceil(N)\n",
    "N_e"
   ]
  },
  {
   "cell_type": "markdown",
   "metadata": {},
   "source": [
    "**Conclusion: Vemos que el problema no se puede resolver mediante un filtro de MP con una sola celda de Orden N = 2 ya que los calculos indican que necesitamos un orden de N = 3**"
   ]
  },
  {
   "cell_type": "markdown",
   "metadata": {},
   "source": [
    "b) Si el mismo diseño se planteara mediante una aproximación Chebyshev, se pide:"
   ]
  },
  {
   "cell_type": "markdown",
   "metadata": {},
   "source": [
    "* la función transferencia normalizada\n",
    "\n",
    "* las respuestas de módulo, fase y la localización de polos y ceros"
   ]
  },
  {
   "cell_type": "markdown",
   "metadata": {},
   "source": [
    "# Obtencion de la transferencia 1er Metodo"
   ]
  },
  {
   "cell_type": "markdown",
   "metadata": {},
   "source": [
    "La transferencia de un filtro Chebysehv es la siguiente:"
   ]
  },
  {
   "cell_type": "markdown",
   "metadata": {},
   "source": [
    "$$\n",
    "\\begin{vmatrix}H(j\\omega)\\end{vmatrix}^{2}=\\frac{1}{1+{C_{n}}^2} $$"
   ]
  },
  {
   "cell_type": "markdown",
   "metadata": {},
   "source": [
    "Donde $C_{n}$ es:"
   ]
  },
  {
   "cell_type": "markdown",
   "metadata": {},
   "source": [
    "$$ C_{n} = \\epsilon.cosh[n.acosh(w)]$$"
   ]
  },
  {
   "cell_type": "markdown",
   "metadata": {},
   "source": [
    "Si reemplazamos $\\omega$ por $\\Omega_{s} = 3$ podemos averiguar el valor de $n$. En ese punto la transferencia en veces es $α_{min}$ en veces por lo que el valor dado en la plantilla hay que pasarlo de dB a veces."
   ]
  },
  {
   "cell_type": "markdown",
   "metadata": {},
   "source": [
    "Con los requerimientos de plantilla calculamos el orden que necesitamos a partir de la transferencia para implementar el filtro con la aproximacion de Chebyshev. El epsilon de Chebyshev es el mismo que en Maxima Planicidad, pero para seguir con el lineamiento de las formulas del Schaumann epsilon estará implicito. "
   ]
  },
  {
   "cell_type": "markdown",
   "metadata": {},
   "source": [
    "$$\\epsilon^2.cosh^2(n.cosh^{-1}\\omega_{s}) = 10^{\\alpha_{min}/10}-1$$"
   ]
  },
  {
   "cell_type": "markdown",
   "metadata": {},
   "source": [
    "$$cosh(n.cosh^{-1}\\omega_{s}) = \\sqrt\\frac{10^{\\frac{\\alpha_{min}}{10}-1}}{10^{\\frac{\\alpha_{max}}{10}-1}}$$"
   ]
  },
  {
   "cell_type": "markdown",
   "metadata": {},
   "source": [
    "$$n=\\frac{\\cosh^{-1}\\sqrt{(10^{0.1\\alpha_{min}}-1)/(10^{0.1\\alpha_{max}}-1)}}{cosh^{-1}\\omega_{s}}$$"
   ]
  },
  {
   "cell_type": "markdown",
   "metadata": {},
   "source": [
    "Para calcular el orden de un filtro Chebyshev llevamos la ultima ecuacion descripta a Python:"
   ]
  },
  {
   "cell_type": "code",
   "execution_count": 12,
   "metadata": {},
   "outputs": [
    {
     "data": {
      "text/plain": [
       "2"
      ]
     },
     "execution_count": 12,
     "metadata": {},
     "output_type": "execute_result"
    }
   ],
   "source": [
    "N = m.acosh(m.sqrt((m.pow(10, alpha_min * 0.1) - 1) / (m.pow(10, alpha_max * 0.1) - 1))) / m.acosh(w_s)\n",
    "N = m.ceil(N)\n",
    "N"
   ]
  },
  {
   "cell_type": "markdown",
   "metadata": {},
   "source": [
    "**Obtenemos que el Orden que necesitamos para cumplir con los requerimientos es 2. \n",
    "Por lo tanto, podemos realizar el filtro con la aproximacion de Chebyseb y una celda de orden  2**"
   ]
  },
  {
   "cell_type": "markdown",
   "metadata": {},
   "source": [
    "Lo que tenemos que hacer es conseguir las ubicaciones de los polos. Para eso usamos la siguiente formula:"
   ]
  },
  {
   "cell_type": "markdown",
   "metadata": {},
   "source": [
    "$$a=\\frac{1}{n}sinh^{-1}(\\frac{1}{\\epsilon})$$\n",
    "$$\\sigma_{k}=\\pm sinh(asin(\\frac{2k-1}{2n}\\pi)) $$\n",
    "$$\\omega_{k}=cosh(a)cos(\\frac{2k-1}{2n}\\pi)$$\n",
    "$$k=1,2,...,n$$"
   ]
  },
  {
   "cell_type": "markdown",
   "metadata": {},
   "source": [
    "Para Obtener $\\omega_{0k}$ y $Q_{k}$ utilizamos la siguientes ecuaciones:"
   ]
  },
  {
   "cell_type": "markdown",
   "metadata": {},
   "source": [
    "$$\\omega_{0k}=\\sqrt{\\sigma_{k}^2+\\omega_{k}^2}$$\n",
    "$$Q_{k}=\\frac{\\omega_{0k}}{2\\sigma_{k}}$$"
   ]
  },
  {
   "cell_type": "markdown",
   "metadata": {},
   "source": [
    "Para obtener el factor de calidad, omega y la ubicacion de los polos, traducimos las ecuaciones a Python"
   ]
  },
  {
   "cell_type": "code",
   "execution_count": 15,
   "metadata": {},
   "outputs": [
    {
     "name": "stdout",
     "output_type": "stream",
     "text": [
      "Sigma_1=-0.548867,Omega_1=0.895129,W0=1.050005,Q0=0.956520,s=1.097734\n",
      "Sigma_2=-0.548867,Omega_2=-0.895129,W0=1.050005,Q0=0.956520,s=1.097734\n"
     ]
    }
   ],
   "source": [
    "a = m.asinh(1/(m.sqrt(epsilon2)))/N\n",
    "\n",
    "for nn in range(1,3):\n",
    "    sigma = -m.sinh(a)*m.sin(((2*nn-1)/(2*N))*m.pi)\n",
    "    omega =  m.cosh(a)*m.cos(((2*nn-1)/(2*N))*m.pi)\n",
    "    omega_o_n = m.sqrt(sigma**2+omega**2)\n",
    "    Q_n=(-1)*(omega_o_n)/(2*sigma)\n",
    "    s=omega_o_n/Q_n\n",
    "    print( 'Sigma_{:d}={:f},Omega_{:d}={:f},W0={:f},Q0={:f},s={:f}'.format(nn,sigma,nn,omega,omega_o_n,Q_n,s))"
   ]
  },
  {
   "cell_type": "markdown",
   "metadata": {},
   "source": [
    "Del script anterior obtuvimos $\\omega_{0}=1.050005$ y $Q_{0}=0.956520$ que nos servirán para obtener nuesrta transferencia normalizada"
   ]
  },
  {
   "cell_type": "code",
   "execution_count": 17,
   "metadata": {},
   "outputs": [],
   "source": [
    "w0=1.050005\n",
    "q=0.956520"
   ]
  },
  {
   "cell_type": "markdown",
   "metadata": {},
   "source": [
    "A continuacion presentamos nuestra transferencia normalizada que luego llenaremos con los valores calculados"
   ]
  },
  {
   "cell_type": "markdown",
   "metadata": {},
   "source": [
    "$$H(s)=\\frac{\\omega_{0}^2}{s^2+s\\frac{\\omega_{0}}{Q_{0}}+\\omega_{0}^2}$$"
   ]
  },
  {
   "cell_type": "markdown",
   "metadata": {},
   "source": [
    "Reemplazando valores obtenemos nuestra transferencia normalizada"
   ]
  },
  {
   "cell_type": "markdown",
   "metadata": {},
   "source": [
    "$$H(s)=\\frac{1.050005^2}{s^2+s\\frac{1.050005}{0.956520 }+1.050005^2}$$"
   ]
  },
  {
   "cell_type": "markdown",
   "metadata": {},
   "source": [
    "# Verificacion de la transferencia obtenida 2do Metodo"
   ]
  },
  {
   "cell_type": "markdown",
   "metadata": {},
   "source": [
    "Para verificar los valores obtenidos de la trasnferencia, procedemos a calcular los coeficientes del polinomio del filtro y como Las funciones armónicas de Chebyshev pueden ser expresadas por equivantes polinómicos que siguen una forma recursiva de serie:"
   ]
  },
  {
   "cell_type": "markdown",
   "metadata": {},
   "source": [
    "$$C(N,\\omega)=2wC(N−1,\\omega)−C(N−2,\\omega)\\;con\\;C(0,\\omega)=1\\;y\\;C(1,\\omega)=\\omega$$"
   ]
  },
  {
   "cell_type": "markdown",
   "metadata": {},
   "source": [
    "Entonces nuestro  $C(2,\\omega)$ nos queda:"
   ]
  },
  {
   "cell_type": "markdown",
   "metadata": {},
   "source": [
    "$$C(2,\\omega)=2\\omega^2-1$$"
   ]
  },
  {
   "cell_type": "markdown",
   "metadata": {},
   "source": [
    "Y nuestra transferencia nos queda:"
   ]
  },
  {
   "cell_type": "markdown",
   "metadata": {},
   "source": [
    "$$\\begin{vmatrix}H(\\omega)\\end{vmatrix}^{2}=\\frac{1}{1+{\\varepsilon^2(2\\omega^2-1)}^2} $$"
   ]
  },
  {
   "cell_type": "markdown",
   "metadata": {},
   "source": [
    "Trabajando sobre el polinomio y ordenando el denominador de mayor a menor potencias nos queda:"
   ]
  },
  {
   "cell_type": "markdown",
   "metadata": {},
   "source": [
    "$$\\begin{vmatrix}H(\\omega)\\end{vmatrix}^{2}=\\frac{4\\varepsilon^2}{\\omega^4-\\omega^2+\\frac{\\varepsilon^2+1}{4\\varepsilon^2}}$$"
   ]
  },
  {
   "cell_type": "markdown",
   "metadata": {},
   "source": [
    "El modulo al cuadrado de la transferencia puede ser expresado de la siguiente forma"
   ]
  },
  {
   "cell_type": "markdown",
   "metadata": {},
   "source": [
    "$$\\begin{vmatrix}H(\\omega)\\end{vmatrix}^{2}=H(j\\omega).H^{*}(j\\omega)$$"
   ]
  },
  {
   "cell_type": "markdown",
   "metadata": {},
   "source": [
    "ó $$\\begin{vmatrix}H(\\omega)\\end{vmatrix}^{2}_{\\mid _{\\omega=\\frac{s}{j}}}=H(s).H(-s)$$"
   ]
  },
  {
   "cell_type": "markdown",
   "metadata": {},
   "source": [
    "$$\\begin{vmatrix}H(\\omega)\\end{vmatrix}^{2}_{\\mid _{\\omega=\\frac{s}{j}}}=\\frac{4\\varepsilon^2}{s^4+s^2+\\frac{\\varepsilon^2+1}{4\\varepsilon^2}}$$ "
   ]
  },
  {
   "cell_type": "markdown",
   "metadata": {},
   "source": [
    "De la siguiente ecuacion podemos saber que $H(s)$ y $H(-s)$ ambas van a tener un polinomio en el denominador de grador 2"
   ]
  },
  {
   "cell_type": "markdown",
   "metadata": {},
   "source": [
    "$$H(s).H(-s)=\\frac{1}{(s^2+as+b)(s^2-as+b)}=\\frac{4\\varepsilon^2}{s^4+s^2+\\frac{\\varepsilon^2+1}{4\\varepsilon^2}}$$"
   ]
  },
  {
   "cell_type": "markdown",
   "metadata": {},
   "source": [
    "Haciendo la distributiva en el denominador obtenemos"
   ]
  },
  {
   "cell_type": "markdown",
   "metadata": {},
   "source": [
    "$$H(s).H(-s)=\\frac{1}{s^4+s^2(2b-a^2)+b^2}=\\frac{4\\varepsilon^2}{s^4+s^2+\\frac{\\varepsilon^2+1}{4\\varepsilon^2}}$$"
   ]
  },
  {
   "cell_type": "markdown",
   "metadata": {},
   "source": [
    "Igualamos los coeficientes de los polinomios por grado"
   ]
  },
  {
   "cell_type": "markdown",
   "metadata": {},
   "source": [
    "$$1=2b-a^2$$ $$\\frac{\\varepsilon^2+1}{4\\varepsilon^2}=b^2$$"
   ]
  },
  {
   "cell_type": "markdown",
   "metadata": {},
   "source": [
    "Despejando $a$ y $b$ obtenemos"
   ]
  },
  {
   "cell_type": "markdown",
   "metadata": {},
   "source": [
    "$a=1.09$ y $b=1.1$"
   ]
  },
  {
   "cell_type": "markdown",
   "metadata": {},
   "source": [
    "Reemplazamos los valores de $a$ y $b$ en $H(s)$"
   ]
  },
  {
   "cell_type": "markdown",
   "metadata": {},
   "source": [
    "$$H(s)=\\frac{1.1}{s^2+s1.09+1.1}$$"
   ]
  },
  {
   "cell_type": "markdown",
   "metadata": {},
   "source": [
    "**Conclusion: Vemos que siguiendos dos metodos distintos llegamos a la misma transferencia**"
   ]
  },
  {
   "cell_type": "markdown",
   "metadata": {},
   "source": [
    "Para obtener las respuestas de módulo, fase y la localización de polos y ceros utilizamos el siguiente script:"
   ]
  },
  {
   "cell_type": "markdown",
   "metadata": {},
   "source": [
    "Aclaracion: para obtener una transferencia mas exacta, utilizamos los valores obtenidos de la transferencia mediante el 1er metodo ya que los valores estan cargados en las variables con mas decimales."
   ]
  },
  {
   "cell_type": "code",
   "execution_count": 33,
   "metadata": {},
   "outputs": [
    {
     "data": {
      "image/png": "[encoded data removed]",
      "text/plain": [
       "<Figure size 720x720 with 2 Axes>"
      ]
     },
     "metadata": {
      "needs_background": "light"
     },
     "output_type": "display_data"
    },
    {
     "data": {
      "image/png": "[encoded data removed]",
      "text/plain": [
       "<Figure size 720x720 with 1 Axes>"
      ]
     },
     "metadata": {
      "needs_background": "light"
     },
     "output_type": "display_data"
    }
   ],
   "source": [
    "import numpy as np\n",
    "import matplotlib as mpl\n",
    "from matplotlib import pyplot as plt\n",
    "#%%  Inicialización de librerías\n",
    "# Setup inline graphics: Esto lo hacemos para que el tamaño de la salida, \n",
    "# sea un poco más adecuada al tamaño del documento\n",
    "mpl.rcParams['figure.figsize'] = (10,10)\n",
    "\n",
    "#%% Esto tiene que ver con cuestiones de presentación de los gráficos,\n",
    "# NO ES IMPORTANTE\n",
    "fig_sz_x = 14\n",
    "fig_sz_y = 13\n",
    "fig_dpi = 80 # dpi\n",
    "# módulo de SciPy\n",
    "from scipy import signal as sig\n",
    "\n",
    "\n",
    "# un módulo adaptado a mis necesidades\n",
    "from splane import bodePlot, pzmap\n",
    "        \n",
    "# Definimos los parámetros de la transferencia:\n",
    "\n",
    "# O bien en términos de los parámetros w0 y Q\n",
    "\n",
    "w0 = 1.050005\n",
    "Q = 0.956520\n",
    "\n",
    "# Cargamos la funcion transferencia\n",
    "\n",
    "num = np.array([ w0**2 ])\n",
    "den = np.array([ 1., w0 / Q, w0**2 ])\n",
    "\n",
    "######################################################\n",
    "# O podría ser en mediante los coeficientes del\n",
    "# numerador y denominador\n",
    "\n",
    "#num = np.array([ 1. ])\n",
    "#den = np.array([ 1., 0.5, 1.0 ])\n",
    "\n",
    "######################################################\n",
    "\n",
    "\n",
    "H = sig.TransferFunction( num, den )\n",
    "\n",
    "# Graficamos el diagrama de polos y ceros\n",
    "# Graficamos la respuesta en frecuencia para el modulo y la fase.\n",
    "\n",
    "_, axes_hdl = bodePlot(H)\n",
    "\n",
    "# para que se vea como uno intuye el módulo. Probar comentar las siguientes 2 líneas\n",
    "plt.sca(axes_hdl[0])\n",
    "#plt.ylim([-1,1])\n",
    "\n",
    "plt.gca\n",
    "\n",
    "pzmap(H)\n",
    "\n",
    "plt.show()"
   ]
  },
  {
   "cell_type": "markdown",
   "metadata": {},
   "source": [
    "c) Implemente el filtro solicitado mediante la siguiente red y corrobore su funcionamiento respecto a la plantilla de requerimientos."
   ]
  },
  {
   "attachments": {},
   "cell_type": "markdown",
   "metadata": {},
   "source": [
    "<img src=\"img/filtro.png\" />"
   ]
  },
  {
   "cell_type": "markdown",
   "metadata": {},
   "source": [
    "La topologia requerida para realizar la sintesis es la de Ackerberg-Mossberg es el caso practico el filtro biquad de Tow-Thomas.\n",
    "Con los resultados obtenidos de  $Q = 0.95$ y $\\omega_{o}= 1.05$. Como no especifica una ganancia de continua, asumimos $k=1$ como asi tambien $$R=1$$  $$C=1$$\n",
    "El resistor de valor $QR$:\n",
    "$$QR=0.95*1=0.95$$\n",
    "$$R_{1}=\\frac{1}{\\omega_{o}C}$$\n",
    "Reemplazando Valores nos queda:\n",
    "$$R_{1}=\\frac{1}{1.05*1}=0.95$$\n",
    "Al ser un filtro biquad tenemos disintas salias PB o PL. Como se pidío un diseño de filtro pasa bajo, nuestra salida será $V_{2}$."
   ]
  },
  {
   "cell_type": "markdown",
   "metadata": {},
   "source": [
    "Vemos una captura de pantalla del circuito realizado con TINA:"
   ]
  },
  {
   "attachments": {},
   "cell_type": "markdown",
   "metadata": {},
   "source": [
    "<img src=\"img/Captura_tina.JPG\" />"
   ]
  },
  {
   "cell_type": "markdown",
   "metadata": {},
   "source": [
    "Y la simulacion"
   ]
  },
  {
   "attachments": {},
   "cell_type": "markdown",
   "metadata": {},
   "source": [
    "<img src=\"img/Simu_tina.JPG\" />"
   ]
  },
  {
   "cell_type": "markdown",
   "metadata": {},
   "source": [
    "**Conclusiones: Vemos que el roll-off del filtro es de 40db/dec propio de un circuito de orden 2. La frecuencia de corte normalizada esta cercana a los $159mHz \\equiv  \\Omega_{s} = 1$**"
   ]
  },
  {
   "cell_type": "markdown",
   "metadata": {},
   "source": [
    "### Desnormalizacion de los componentes"
   ]
  },
  {
   "cell_type": "code",
   "execution_count": 37,
   "metadata": {},
   "outputs": [
    {
     "name": "stdout",
     "output_type": "stream",
     "text": [
      "C: 3.183098861837907e-08; R: 10000; R: 9500.0; QR: 9500.0\n"
     ]
    }
   ],
   "source": [
    "#Componentes normalizados\n",
    "C_n  = 1\n",
    "R_n  = 1\n",
    "R1_n = 0.95\n",
    "QR_n = 0.95\n",
    "#Norma de normalizacion \n",
    "N_omega = 2 * m.pi * 500 #Norma de frecuencia\n",
    "N_z     = 10000          #Norma de impedancia\n",
    "# Desnormalizando\n",
    "C = C_n / N_omega / N_z\n",
    "\n",
    "R  = R_n   *  N_z\n",
    "R1 = R1_n  *  N_z \n",
    "QR = QR_n  *  N_z \n",
    "\n",
    "print('C: {}; R: {}; R: {}; QR: {}'.format(C,R,R1,QR))\n"
   ]
  }
 ],
 "metadata": {
  "kernelspec": {
   "display_name": "Python 3",
   "language": "python",
   "name": "python3"
  },
  "language_info": {
   "codemirror_mode": {
    "name": "ipython",
    "version": 3
   },
   "file_extension": ".py",
   "mimetype": "text/x-python",
   "name": "python",
   "nbconvert_exporter": "python",
   "pygments_lexer": "ipython3",
   "version": "3.7.6"
  }
 },
 "nbformat": 4,
 "nbformat_minor": 4
}
